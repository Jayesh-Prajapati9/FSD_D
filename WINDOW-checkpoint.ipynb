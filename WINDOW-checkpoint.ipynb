{
 "cells": [
  {
   "cell_type": "code",
   "execution_count": 7,
   "metadata": {},
   "outputs": [
    {
     "name": "stdout",
     "output_type": "stream",
     "text": [
      "Enter the string:- PRWSOERIUSFK\n",
      "Enter the substring:- SFK\n",
      "                                                                                                    \n"
     ]
    }
   ],
   "source": [
    "# write a program to find the minimum window in a given string which will contain all the characters of given sub-string\n",
    "sr=input(\"Enter the string:- \")\n",
    "sbsr=input(\"Enter the substring:- \")\n",
    "count=0\n",
    "final=\" \"*100\n",
    "for i in range(len(sr)):\n",
    "    sur=\"\"\n",
    "    for j in range(i,len(sr)):\n",
    "        sur=sr[i:j]\n",
    "        for k in sbsr:\n",
    "            if(k in sur):\n",
    "                continue\n",
    "            else:\n",
    "                break\n",
    "#         if(sbsr[0] in sur and sbsr[1] in sur and sbsr[2] in sur):\n",
    "        else:\n",
    "            if(len(sur)<len(final)):\n",
    "                final=sur\n",
    "print(final)"
   ]
  }
 ],
 "metadata": {
  "kernelspec": {
   "display_name": "Python 3",
   "language": "python",
   "name": "python3"
  },
  "language_info": {
   "codemirror_mode": {
    "name": "ipython",
    "version": 3
   },
   "file_extension": ".py",
   "mimetype": "text/x-python",
   "name": "python",
   "nbconvert_exporter": "python",
   "pygments_lexer": "ipython3",
   "version": "3.8.5"
  }
 },
 "nbformat": 4,
 "nbformat_minor": 4
}
